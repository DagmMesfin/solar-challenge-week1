{
 "cells": [
  {
   "cell_type": "code",
   "execution_count": 1,
   "id": "1a458997",
   "metadata": {},
   "outputs": [],
   "source": [
    "import pandas as pd\n",
    "import seaborn as sns\n",
    "import matplotlib.pyplot as plt\n",
    "from scipy.stats import f_oneway, kruskal\n",
    "\n"
   ]
  },
  {
   "cell_type": "code",
   "execution_count": 2,
   "id": "a561250f",
   "metadata": {},
   "outputs": [],
   "source": [
    "# import the cleaned data\n",
    "benin_df = pd.read_csv(\"../data/benin_clean.csv\")\n",
    "sierraleone_df = pd.read_csv(\"../data/sierraleone_clean.csv\")\n",
    "togo_df = pd.read_csv(\"../data/togo_clean.csv\")\n",
    "\n",
    "# Add country labels\n",
    "benin_df['Country'] = 'Benin'\n",
    "sierraleone_df['Country'] = 'Sierra Leone'\n",
    "togo_df['Country'] = 'Togo'\n",
    "\n",
    "# Concatenate the dataframes\n",
    "combined_df = pd.concat([benin_df, sierraleone_df, togo_df], ignore_index=True)\n"
   ]
  },
  {
   "cell_type": "code",
   "execution_count": 3,
   "id": "d96a7db8",
   "metadata": {},
   "outputs": [
    {
     "data": {
      "image/png": "[encoded data removed]",
      "text/plain": [
       "<Figure size 1500x500 with 3 Axes>"
      ]
     },
     "metadata": {},
     "output_type": "display_data"
    }
   ],
   "source": [
    "# Boxplot for GHI, DNI, and DHI\n",
    "metrics = ['GHI', 'DNI', 'DHI']\n",
    "plt.figure(figsize=(15, 5))\n",
    "\n",
    "for i, metric in enumerate(metrics):\n",
    "    plt.subplot(1, 3, i + 1)\n",
    "    sns.boxplot(x='Country', y=metric, data=combined_df, palette='pastel', hue=combined_df['Country'])\n",
    "    plt.title(f'{metric} Distribution')\n",
    "    plt.xlabel('')\n",
    "    plt.ylabel(metric)\n",
    "\n",
    "plt.tight_layout()\n",
    "plt.show()\n"
   ]
  },
  {
   "cell_type": "code",
   "execution_count": 4,
   "id": "25ccd03d",
   "metadata": {},
   "outputs": [
    {
     "name": "stdout",
     "output_type": "stream",
     "text": [
      "Summary Statistics for GHI, DNI, and DHI:\n"
     ]
    },
    {
     "data": {
      "text/html": [
       "<div>\n",
       "<style scoped>\n",
       "    .dataframe tbody tr th:only-of-type {\n",
       "        vertical-align: middle;\n",
       "    }\n",
       "\n",
       "    .dataframe tbody tr th {\n",
       "        vertical-align: top;\n",
       "    }\n",
       "\n",
       "    .dataframe thead tr th {\n",
       "        text-align: left;\n",
       "    }\n",
       "</style>\n",
       "<table border=\"1\" class=\"dataframe\">\n",
       "  <thead>\n",
       "    <tr>\n",
       "      <th></th>\n",
       "      <th colspan=\"3\" halign=\"left\">Benin</th>\n",
       "      <th colspan=\"3\" halign=\"left\">Sierra Leone</th>\n",
       "      <th colspan=\"3\" halign=\"left\">Togo</th>\n",
       "    </tr>\n",
       "    <tr>\n",
       "      <th></th>\n",
       "      <th>GHI</th>\n",
       "      <th>DNI</th>\n",
       "      <th>DHI</th>\n",
       "      <th>GHI</th>\n",
       "      <th>DNI</th>\n",
       "      <th>DHI</th>\n",
       "      <th>GHI</th>\n",
       "      <th>DNI</th>\n",
       "      <th>DHI</th>\n",
       "    </tr>\n",
       "  </thead>\n",
       "  <tbody>\n",
       "    <tr>\n",
       "      <th>mean</th>\n",
       "      <td>508.39</td>\n",
       "      <td>358.81</td>\n",
       "      <td>241.52</td>\n",
       "      <td>419.71</td>\n",
       "      <td>235.84</td>\n",
       "      <td>246.10</td>\n",
       "      <td>446.10</td>\n",
       "      <td>293.34</td>\n",
       "      <td>223.55</td>\n",
       "    </tr>\n",
       "    <tr>\n",
       "      <th>median</th>\n",
       "      <td>510.60</td>\n",
       "      <td>359.30</td>\n",
       "      <td>225.20</td>\n",
       "      <td>383.10</td>\n",
       "      <td>143.50</td>\n",
       "      <td>240.80</td>\n",
       "      <td>418.10</td>\n",
       "      <td>231.60</td>\n",
       "      <td>209.60</td>\n",
       "    </tr>\n",
       "    <tr>\n",
       "      <th>std</th>\n",
       "      <td>304.16</td>\n",
       "      <td>280.16</td>\n",
       "      <td>136.28</td>\n",
       "      <td>276.79</td>\n",
       "      <td>245.43</td>\n",
       "      <td>136.34</td>\n",
       "      <td>316.09</td>\n",
       "      <td>281.02</td>\n",
       "      <td>144.16</td>\n",
       "    </tr>\n",
       "  </tbody>\n",
       "</table>\n",
       "</div>"
      ],
      "text/plain": [
       "         Benin                 Sierra Leone                    Togo          \\\n",
       "           GHI     DNI     DHI          GHI     DNI     DHI     GHI     DNI   \n",
       "mean    508.39  358.81  241.52       419.71  235.84  246.10  446.10  293.34   \n",
       "median  510.60  359.30  225.20       383.10  143.50  240.80  418.10  231.60   \n",
       "std     304.16  280.16  136.28       276.79  245.43  136.34  316.09  281.02   \n",
       "\n",
       "                \n",
       "           DHI  \n",
       "mean    223.55  \n",
       "median  209.60  \n",
       "std     144.16  "
      ]
     },
     "execution_count": 4,
     "metadata": {},
     "output_type": "execute_result"
    }
   ],
   "source": [
    "# summary statistics for each country\n",
    "summary_benin = benin_df[['GHI', 'DNI', 'DHI']].agg(['mean', 'median', 'std']).round(2)\n",
    "summary_sierraleone = sierraleone_df[['GHI', 'DNI', 'DHI']].agg(['mean', 'median', 'std']).round(2)\n",
    "summary_togo = togo_df[['GHI', 'DNI', 'DHI']].agg(['mean', 'median', 'std']).round(2)\n",
    "\n",
    "# Combine summaries into a single DataFrame for better comparision\n",
    "summary_combined = pd.concat({\n",
    "    'Benin': summary_benin,\n",
    "    'Sierra Leone': summary_sierraleone,\n",
    "    'Togo': summary_togo\n",
    "}, axis=1)\n",
    "\n",
    "# display the summary statistics\n",
    "print(\"Summary Statistics for GHI, DNI, and DHI:\")\n",
    "summary_combined\n"
   ]
  },
  {
   "cell_type": "code",
   "execution_count": 5,
   "id": "95b87afe",
   "metadata": {},
   "outputs": [
    {
     "name": "stdout",
     "output_type": "stream",
     "text": [
      "ANOVA p-value: 0.00000\n",
      "Significant differences in GHI between countries (p < 0.05)\n"
     ]
    }
   ],
   "source": [
    "# Extract GHI values for each country\n",
    "ghi_benin = benin_df['GHI']\n",
    "ghi_sierraleone = sierraleone_df['GHI']\n",
    "ghi_togo = togo_df['GHI']\n",
    "\n",
    "# One-Way ANOVA Test\n",
    "anova_stat, anova_p = f_oneway(ghi_benin, ghi_sierraleone, ghi_togo)\n",
    "\n",
    "print(f\"ANOVA p-value: {anova_p:.5f}\")\n",
    "if anova_p < 0.05:\n",
    "    print(\"Significant differences in GHI between countries (p < 0.05)\")\n",
    "else:\n",
    "    print(\"No significant differences in GHI (p >= 0.05)\")\n"
   ]
  },
  {
   "cell_type": "code",
   "execution_count": 6,
   "id": "0d9eda34",
   "metadata": {},
   "outputs": [
    {
     "name": "stdout",
     "output_type": "stream",
     "text": [
      "Kruskal-Wallis p-value: 0.00000\n",
      "Significant differences in GHI between countries (p < 0.05)\n"
     ]
    }
   ],
   "source": [
    "# kruskal-wallis test\n",
    "kruskal_stat, kruskal_p = kruskal(ghi_benin, ghi_sierraleone, ghi_togo)\n",
    "\n",
    "print(f\"Kruskal-Wallis p-value: {kruskal_p:.5f}\")\n",
    "if kruskal_p < 0.05:\n",
    "    print(\"Significant differences in GHI between countries (p < 0.05)\")\n",
    "else:\n",
    "    print(\"No significant differences in GHI (p >= 0.05)\")\n"
   ]
  },
  {
   "cell_type": "markdown",
   "id": "cec66841",
   "metadata": {},
   "source": [
    "### Key Observations\n",
    "\n",
    "- **Benin** has the **highest median GHI (510.60)** and **highest mean DNI (358.81)**, indicating strong and consistent solar irradiance, making it potentially ideal for solar energy projects.\n",
    "- **Sierra Leone** shows the **lowest median DNI (143.50)** among the three, suggesting lower levels of direct sunlight and potentially more cloud cover or atmospheric diffusion, whiich actually can be confirmed by its slightly **higher median DHI (246.10)** than the three.\n",
    "- **Togo** presents **moderate GHI and DNI values**, but with the **highest variability in GHI (std = 316.09)** and **DNI (std = 281.02)**, indicating more fluctuation in solar conditions over time.\n"
   ]
  },
  {
   "cell_type": "code",
   "execution_count": 7,
   "id": "00221561",
   "metadata": {},
   "outputs": [
    {
     "data": {
      "image/png": "[encoded data removed]",
      "text/plain": [
       "<Figure size 600x400 with 1 Axes>"
      ]
     },
     "metadata": {},
     "output_type": "display_data"
    }
   ],
   "source": [
    "# Calculate average GHI for each country\n",
    "avg_ghi = {\n",
    "    \"Benin\": summary_benin[\"GHI\"][\"mean\"],\n",
    "    \"Sierra Leone\": summary_sierraleone[\"GHI\"][\"mean\"],\n",
    "    \"Togo\": summary_togo[\"GHI\"][\"mean\"]\n",
    "}\n",
    "\n",
    "# Sort countries by average GHI\n",
    "sorted_avg_ghi = dict(sorted(avg_ghi.items(), key=lambda item: item[1], reverse=True))\n",
    "\n",
    "# Plot the bar chart\n",
    "plt.figure(figsize=(6, 4))\n",
    "plt.bar(sorted_avg_ghi.keys(), sorted_avg_ghi.values(), color=[\"orange\", \"skyblue\", \"lightgreen\"])\n",
    "plt.title(\"Average GHI by Country\")\n",
    "plt.ylabel(\"Global Horizontal Irradiance (W/m²)\")\n",
    "plt.xlabel(\"Country\")\n",
    "plt.tight_layout()\n",
    "plt.show()"
   ]
  }
 ],
 "metadata": {
  "kernelspec": {
   "display_name": ".venv",
   "language": "python",
   "name": "python3"
  },
  "language_info": {
   "codemirror_mode": {
    "name": "ipython",
    "version": 3
   },
   "file_extension": ".py",
   "mimetype": "text/x-python",
   "name": "python",
   "nbconvert_exporter": "python",
   "pygments_lexer": "ipython3",
   "version": "3.12.10"
  }
 },
 "nbformat": 4,
 "nbformat_minor": 5
}
